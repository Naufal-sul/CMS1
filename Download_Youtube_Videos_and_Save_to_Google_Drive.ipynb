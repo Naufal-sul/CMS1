{
  "nbformat": 4,
  "nbformat_minor": 0,
  "metadata": {
    "colab": {
      "provenance": [],
      "include_colab_link": true
    },
    "kernelspec": {
      "name": "python3",
      "display_name": "Python 3"
    },
    "language_info": {
      "name": "python"
    }
  },
  "cells": [
    {
      "cell_type": "markdown",
      "metadata": {
        "id": "view-in-github",
        "colab_type": "text"
      },
      "source": [
        "<a href=\"https://colab.research.google.com/github/Naufal-sul/CMS1/blob/main/Download_Youtube_Videos_and_Save_to_Google_Drive.ipynb\" target=\"_parent\"><img src=\"https://colab.research.google.com/assets/colab-badge.svg\" alt=\"Open In Colab\"/></a>"
      ]
    },
    {
      "cell_type": "markdown",
      "source": [
        "# Download Youtube Videos and Save to Google Drive\n",
        "This Scipt downloads videos from the URLS provided and save them directly in google drive."
      ],
      "metadata": {
        "id": "A28fBeMO9oKk"
      }
    },
    {
      "cell_type": "code",
      "execution_count": null,
      "metadata": {
        "colab": {
          "base_uri": "https://localhost:8080/"
        },
        "id": "FAXvJGrYzTX2",
        "outputId": "10442e26-6be7-4e5e-b205-d4cf28f58475"
      },
      "outputs": [
        {
          "output_type": "stream",
          "name": "stdout",
          "text": [
            "Drive already mounted at /content/drive; to attempt to forcibly remount, call drive.mount(\"/content/drive\", force_remount=True).\n",
            "Requirement already satisfied: yt-dlp in /usr/local/lib/python3.10/dist-packages (2024.12.6)\n",
            "Downloading: https://www.youtube.com/watch?v=zD0FpYDHiLk\n",
            "[youtube] Extracting URL: https://www.youtube.com/watch?v=zD0FpYDHiLk\n",
            "[youtube] zD0FpYDHiLk: Downloading webpage\n",
            "[youtube] zD0FpYDHiLk: Downloading ios player API JSON\n",
            "[youtube] zD0FpYDHiLk: Downloading mweb player API JSON\n",
            "[youtube] zD0FpYDHiLk: Downloading m3u8 information\n",
            "[info] zD0FpYDHiLk: Downloading 1 format(s): 135+140\n",
            "[download] Destination: /content/drive/My Drive/SOUTH AFRICA v ENGLAND 2nd TEST MATCH DAY 4 PORT ELIZABETH DECEMBER 12 1999 ORIGINAL UK BROADCAST.f135.mp4\n",
            "\u001b[K[download] 100% of  207.69MiB in \u001b[1;37m00:00:05\u001b[0m at \u001b[0;32m40.12MiB/s\u001b[0m\n",
            "[download] Destination: /content/drive/My Drive/SOUTH AFRICA v ENGLAND 2nd TEST MATCH DAY 4 PORT ELIZABETH DECEMBER 12 1999 ORIGINAL UK BROADCAST.f140.m4a\n",
            "\u001b[K[download] 100% of   34.12MiB in \u001b[1;37m00:00:00\u001b[0m at \u001b[0;32m44.00MiB/s\u001b[0m\n",
            "[Merger] Merging formats into \"/content/drive/My Drive/SOUTH AFRICA v ENGLAND 2nd TEST MATCH DAY 4 PORT ELIZABETH DECEMBER 12 1999 ORIGINAL UK BROADCAST.mp4\"\n",
            "Deleting original file /content/drive/My Drive/SOUTH AFRICA v ENGLAND 2nd TEST MATCH DAY 4 PORT ELIZABETH DECEMBER 12 1999 ORIGINAL UK BROADCAST.f135.mp4 (pass -k to keep)\n",
            "Deleting original file /content/drive/My Drive/SOUTH AFRICA v ENGLAND 2nd TEST MATCH DAY 4 PORT ELIZABETH DECEMBER 12 1999 ORIGINAL UK BROADCAST.f140.m4a (pass -k to keep)\n",
            "Downloading: https://www.youtube.com/watch?v=9q286A6vS9E\n",
            "[youtube] Extracting URL: https://www.youtube.com/watch?v=9q286A6vS9E\n",
            "[youtube] 9q286A6vS9E: Downloading webpage\n",
            "[youtube] 9q286A6vS9E: Downloading ios player API JSON\n",
            "[youtube] 9q286A6vS9E: Downloading mweb player API JSON\n",
            "[youtube] 9q286A6vS9E: Downloading m3u8 information\n",
            "[info] Testing format 606\n",
            "[info] 9q286A6vS9E: Downloading 1 format(s): 606+140\n",
            "[hlsnative] Downloading m3u8 manifest\n",
            "[hlsnative] Total fragments: 380\n",
            "[download] Destination: /content/drive/My Drive/SOUTH AFRICA v ENGLAND 2nd TEST MATCH DAY 3 PORT ELIZABETH DECEMBER 11 1999 (DAMAGED TAPE AT START).f606.mp4\n",
            "\u001b[K[download] 100% of  122.78MiB in \u001b[1;37m00:00:39\u001b[0m at \u001b[0;32m3.07MiB/s\u001b[0m\n",
            "[download] Destination: /content/drive/My Drive/SOUTH AFRICA v ENGLAND 2nd TEST MATCH DAY 3 PORT ELIZABETH DECEMBER 11 1999 (DAMAGED TAPE AT START).f140.m4a\n",
            "\u001b[K[download] 100% of   31.49MiB in \u001b[1;37m00:00:02\u001b[0m at \u001b[0;32m11.42MiB/s\u001b[0m\n",
            "[Merger] Merging formats into \"/content/drive/My Drive/SOUTH AFRICA v ENGLAND 2nd TEST MATCH DAY 3 PORT ELIZABETH DECEMBER 11 1999 (DAMAGED TAPE AT START).mp4\"\n",
            "Deleting original file /content/drive/My Drive/SOUTH AFRICA v ENGLAND 2nd TEST MATCH DAY 3 PORT ELIZABETH DECEMBER 11 1999 (DAMAGED TAPE AT START).f140.m4a (pass -k to keep)\n",
            "Deleting original file /content/drive/My Drive/SOUTH AFRICA v ENGLAND 2nd TEST MATCH DAY 3 PORT ELIZABETH DECEMBER 11 1999 (DAMAGED TAPE AT START).f606.mp4 (pass -k to keep)\n",
            "Downloading: https://www.youtube.com/watch?v=lFsIvKixLZM\n",
            "[youtube] Extracting URL: https://www.youtube.com/watch?v=lFsIvKixLZM\n",
            "[youtube] lFsIvKixLZM: Downloading webpage\n",
            "[youtube] lFsIvKixLZM: Downloading ios player API JSON\n",
            "[youtube] lFsIvKixLZM: Downloading mweb player API JSON\n",
            "[youtube] lFsIvKixLZM: Downloading m3u8 information\n",
            "[info] lFsIvKixLZM: Downloading 1 format(s): 606+140\n",
            "[hlsnative] Downloading m3u8 manifest\n",
            "[hlsnative] Total fragments: 357\n",
            "[download] Destination: /content/drive/My Drive/(DAMAGED TAPE) SOUTH AFRICA v ENGLAND 2nd TEST MATCH DAY 2 PORT ELIZABETH DECEMBER 10 1999.f606.mp4\n",
            "\u001b[K[download] 100% of  140.63MiB in \u001b[1;37m00:00:39\u001b[0m at \u001b[0;32m3.60MiB/s\u001b[0m\n",
            "[download] Destination: /content/drive/My Drive/(DAMAGED TAPE) SOUTH AFRICA v ENGLAND 2nd TEST MATCH DAY 2 PORT ELIZABETH DECEMBER 10 1999.f140.m4a\n",
            "\u001b[K[download] 100% of   30.18MiB in \u001b[1;37m00:00:02\u001b[0m at \u001b[0;32m13.05MiB/s\u001b[0m\n",
            "[Merger] Merging formats into \"/content/drive/My Drive/(DAMAGED TAPE) SOUTH AFRICA v ENGLAND 2nd TEST MATCH DAY 2 PORT ELIZABETH DECEMBER 10 1999.mp4\"\n",
            "Deleting original file /content/drive/My Drive/(DAMAGED TAPE) SOUTH AFRICA v ENGLAND 2nd TEST MATCH DAY 2 PORT ELIZABETH DECEMBER 10 1999.f606.mp4 (pass -k to keep)\n",
            "Deleting original file /content/drive/My Drive/(DAMAGED TAPE) SOUTH AFRICA v ENGLAND 2nd TEST MATCH DAY 2 PORT ELIZABETH DECEMBER 10 1999.f140.m4a (pass -k to keep)\n",
            "Downloading: https://www.youtube.com/watch?v=8CSkVi63Ro0\n",
            "[youtube] Extracting URL: https://www.youtube.com/watch?v=8CSkVi63Ro0\n",
            "[youtube] 8CSkVi63Ro0: Downloading webpage\n",
            "[youtube] 8CSkVi63Ro0: Downloading ios player API JSON\n",
            "[youtube] 8CSkVi63Ro0: Downloading mweb player API JSON\n",
            "[youtube] 8CSkVi63Ro0: Downloading m3u8 information\n",
            "[info] 8CSkVi63Ro0: Downloading 1 format(s): 606+140\n",
            "[hlsnative] Downloading m3u8 manifest\n",
            "[hlsnative] Total fragments: 197\n",
            "[download] Destination: /content/drive/My Drive/(DAMAGED TAPE - NO SOUND) SOUTH AFRICA v ENGLAND 2nd TEST MATCH DAY 1 PORT ELIZABETH DECEMBER 9 1999.f606.mp4\n",
            "\u001b[K[download] 100% of   95.03MiB in \u001b[1;37m00:00:22\u001b[0m at \u001b[0;32m4.13MiB/s\u001b[0m\n",
            "[download] Destination: /content/drive/My Drive/(DAMAGED TAPE - NO SOUND) SOUTH AFRICA v ENGLAND 2nd TEST MATCH DAY 1 PORT ELIZABETH DECEMBER 9 1999.f140.m4a\n",
            "\u001b[K[download] 100% of   17.00MiB in \u001b[1;37m00:00:00\u001b[0m at \u001b[0;32m17.08MiB/s\u001b[0m\n",
            "[Merger] Merging formats into \"/content/drive/My Drive/(DAMAGED TAPE - NO SOUND) SOUTH AFRICA v ENGLAND 2nd TEST MATCH DAY 1 PORT ELIZABETH DECEMBER 9 1999.mp4\"\n",
            "Deleting original file /content/drive/My Drive/(DAMAGED TAPE - NO SOUND) SOUTH AFRICA v ENGLAND 2nd TEST MATCH DAY 1 PORT ELIZABETH DECEMBER 9 1999.f140.m4a (pass -k to keep)\n",
            "Deleting original file /content/drive/My Drive/(DAMAGED TAPE - NO SOUND) SOUTH AFRICA v ENGLAND 2nd TEST MATCH DAY 1 PORT ELIZABETH DECEMBER 9 1999.f606.mp4 (pass -k to keep)\n",
            "Downloading: https://www.youtube.com/watch?v=7m7GzC8d3Gw\n",
            "[youtube] Extracting URL: https://www.youtube.com/watch?v=7m7GzC8d3Gw\n",
            "[youtube] 7m7GzC8d3Gw: Downloading webpage\n",
            "[youtube] 7m7GzC8d3Gw: Downloading ios player API JSON\n",
            "[youtube] 7m7GzC8d3Gw: Downloading mweb player API JSON\n",
            "[youtube] 7m7GzC8d3Gw: Downloading m3u8 information\n",
            "[info] 7m7GzC8d3Gw: Downloading 1 format(s): 135+140\n",
            "[download] Destination: /content/drive/My Drive/ENGLAND TOUR OF AUSTRALIA UPDATE DECEMBER 12 1994.f135.mp4\n",
            "\u001b[K[download] 100% of   33.24MiB in \u001b[1;37m00:00:02\u001b[0m at \u001b[0;32m14.70MiB/s\u001b[0m\n",
            "[download] Destination: /content/drive/My Drive/ENGLAND TOUR OF AUSTRALIA UPDATE DECEMBER 12 1994.f140.m4a\n",
            "\u001b[K[download] 100% of    6.20MiB in \u001b[1;37m00:00:00\u001b[0m at \u001b[0;32m35.40MiB/s\u001b[0m\n",
            "[Merger] Merging formats into \"/content/drive/My Drive/ENGLAND TOUR OF AUSTRALIA UPDATE DECEMBER 12 1994.mp4\"\n",
            "Deleting original file /content/drive/My Drive/ENGLAND TOUR OF AUSTRALIA UPDATE DECEMBER 12 1994.f135.mp4 (pass -k to keep)\n",
            "Deleting original file /content/drive/My Drive/ENGLAND TOUR OF AUSTRALIA UPDATE DECEMBER 12 1994.f140.m4a (pass -k to keep)\n",
            "All videos downloaded in MP4 format and saved to Google Drive!\n"
          ]
        }
      ],
      "source": [
        "# Step 1: Mount Google Drive\n",
        "from google.colab import drive\n",
        "drive.mount('/content/drive')\n",
        "\n",
        "# Step 2: Install yt-dlp\n",
        "!pip install yt-dlp\n",
        "\n",
        "# Step 3: Define YouTube video URL and Save Path\n",
        "#video_url = 'https://www.youtube.com/watch?v=MNQ0zmFmOtE'  # Replace with your YouTube link\n",
        "\n",
        "video_urls = [\n",
        "    'https://www.youtube.com/watch?v=zD0FpYDHiLk',  # Replace with your video URLs https://www.youtube.com/watch?v=lFsIvKixLZM\n",
        "    'https://www.youtube.com/watch?v=9q286A6vS9E',\n",
        "    'https://www.youtube.com/watch?v=lFsIvKixLZM',\n",
        "    'https://www.youtube.com/watch?v=8CSkVi63Ro0',\n",
        "    'https://www.youtube.com/watch?v=7m7GzC8d3Gw'\n",
        "]\n",
        "\n",
        "# Path in Google Drive\n",
        "save_path = '/content/drive/My Drive/%(title)s.%(ext)s'\n",
        "\n",
        "\n",
        "# Step 4: Download Each Video in MP4 Format\n",
        "for url in video_urls:\n",
        "    print(f\"Downloading: {url}\")\n",
        "    # Enforce MP4 format\n",
        "    !yt-dlp -f \"bestvideo[ext=mp4]+bestaudio[ext=m4a]/mp4\" --merge-output-format mp4 -o \"{save_path}\" \"{url}\"\n",
        "\n",
        "print(\"All videos downloaded in MP4 format and saved to Google Drive!\")\n",
        "\n",
        "\n",
        "# Step 4: Download the Video using yt-dlp\n",
        "#!yt-dlp -o \"{save_path}\" \"{video_urls}\"\n",
        "\n",
        "#print(\"Download completed and saved to Google Drive!\")\n",
        "\n",
        "\n",
        "\n"
      ]
    }
  ]
}